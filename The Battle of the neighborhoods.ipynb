{
 "cells": [
  {
   "cell_type": "markdown",
   "metadata": {},
   "source": [
    "# The Battle of the neighborhoods"
   ]
  },
  {
   "cell_type": "markdown",
   "metadata": {},
   "source": [
    "## Import Libraries Required"
   ]
  },
  {
   "cell_type": "code",
   "execution_count": 1,
   "metadata": {
    "ExecuteTime": {
     "end_time": "2020-02-17T14:33:19.379870Z",
     "start_time": "2020-02-17T14:33:12.787278Z"
    }
   },
   "outputs": [
    {
     "name": "stdout",
     "output_type": "stream",
     "text": [
      "Libraries imported.\n"
     ]
    }
   ],
   "source": [
    "import numpy as np # library to handle data in a vectorized manner\n",
    "import time\n",
    "import pandas as pd # library for data analsysis\n",
    "pd.set_option('display.max_columns', None)\n",
    "pd.set_option('display.max_rows', None)\n",
    "\n",
    "import json # library to handle JSON files\n",
    "import requests # library to handle requests\n",
    "from pandas.io.json import json_normalize # tranform JSON file into a pandas dataframe\n",
    "\n",
    "\n",
    "# !conda install -c conda-forge geopy --yes # uncomment this line if you haven't completed the Foursquare API lab\n",
    "from geopy.geocoders import Nominatim # convert an address into latitude and longitude values\n",
    "\n",
    "# !conda install -c conda-forge folium=0.5.0 --yes # uncomment this line if you haven't completed the Foursquare API lab\n",
    "import folium # map rendering library\n",
    "import folium # map rendering library\n",
    "from folium import plugins\n",
    "\n",
    "# Matplotlib and associated plotting modules\n",
    "import matplotlib.cm as cm\n",
    "import matplotlib.colors as colors\n",
    "\n",
    "import seaborn as sns\n",
    "\n",
    "# import k-means from clustering stage\n",
    "from sklearn.cluster import KMeans\n",
    "\n",
    "\n",
    "\n",
    "print('Libraries imported.')"
   ]
  },
  {
   "cell_type": "markdown",
   "metadata": {},
   "source": [
    "## 1. Introduction Section :"
   ]
  },
  {
   "cell_type": "markdown",
   "metadata": {},
   "source": [
    "### Discussion of the business problem and the audience who would be interested in this project."
   ]
  },
  {
   "cell_type": "markdown",
   "metadata": {},
   "source": [
    "### 1.1 Scenario and backgroud"
   ]
  },
  {
   "cell_type": "markdown",
   "metadata": {},
   "source": [
    " I am a data scientist living in Shanghai. I have rent an appartment unit in Qingpu Area. However, after several months, I find it is very inconvenient as the apartment is far from subway station and there is no large supermarket within 3 kilometers. Furthermore, recently I was offered a new job in another area(Yangpu Area). So I would like to buy a new appartment which brings more convenience to my work and life."
   ]
  },
  {
   "cell_type": "markdown",
   "metadata": {
    "ExecuteTime": {
     "end_time": "2020-02-16T07:37:58.050111Z",
     "start_time": "2020-02-16T07:37:58.041959Z"
    }
   },
   "source": [
    "### 1.2 Problem to be resolved:"
   ]
  },
  {
   "cell_type": "markdown",
   "metadata": {},
   "source": [
    "The challenge to resolve is being able to find a rental apartment unit in Shanghai that is subject to the following conditions:"
   ]
  },
  {
   "cell_type": "markdown",
   "metadata": {},
   "source": [
    "1. Apartment with min 2 bedrooms and min 80 square meters with price not to exceed ￥700K\n",
    "2. Unit located within walking distance (<=1.5 km) from a subway metro station in Yangpu Area\n",
    "3. Area with ammenities like supermarket, restaurants, shops and cinemas within walking distance"
   ]
  },
  {
   "cell_type": "markdown",
   "metadata": {},
   "source": [
    "### 1.3 Interested Audience"
   ]
  },
  {
   "cell_type": "markdown",
   "metadata": {},
   "source": [
    "I believe this is a relevant project for a person who wants to find a better place to live and work, since the approach and methodologies used here are applicable in all cases. The use of FourSquare data, scraping other relevant data from website and mapping techniques combined with data analysis will help resolve the key questions arisen. Lastly, this project is a good practical case toward the development of Data Science skills."
   ]
  },
  {
   "cell_type": "markdown",
   "metadata": {},
   "source": [
    "## 2.Data Section:"
   ]
  },
  {
   "cell_type": "markdown",
   "metadata": {},
   "source": [
    "### 2.1 Data Required to resolve the problem"
   ]
  },
  {
   "cell_type": "markdown",
   "metadata": {},
   "source": [
    "In order to make a good choice of a good appartment in Shanghai, the following data is required:"
   ]
  },
  {
   "cell_type": "markdown",
   "metadata": {},
   "source": [
    "1. Listed second-hand apartments in Yangpu Area with descriptions (price, location, how many bedrooms,area)\n",
    "2. Geodata (latitude, longitude) of the second-hand appartments\n",
    "3. List/Information about the subway metro stations in Yangpu Area with geodata\n",
    "4. Venues and ammenities in the neighborhoods"
   ]
  },
  {
   "cell_type": "markdown",
   "metadata": {},
   "source": [
    "### 2.2 Data source"
   ]
  },
  {
   "cell_type": "markdown",
   "metadata": {},
   "source": [
    "#### 1. Scrap second-hand apartment info from a website named Lianjia and transform data into dataframe\n",
    "https://sh.lianjia.com/ershoufang/yangpu/rp5/"
   ]
  },
  {
   "cell_type": "code",
   "execution_count": 20,
   "metadata": {
    "ExecuteTime": {
     "end_time": "2020-02-17T15:20:32.855826Z",
     "start_time": "2020-02-17T15:20:32.783568Z"
    },
    "scrolled": true
   },
   "outputs": [
    {
     "data": {
      "text/html": [
       "<div>\n",
       "<style scoped>\n",
       "    .dataframe tbody tr th:only-of-type {\n",
       "        vertical-align: middle;\n",
       "    }\n",
       "\n",
       "    .dataframe tbody tr th {\n",
       "        vertical-align: top;\n",
       "    }\n",
       "\n",
       "    .dataframe thead th {\n",
       "        text-align: right;\n",
       "    }\n",
       "</style>\n",
       "<table border=\"1\" class=\"dataframe\">\n",
       "  <thead>\n",
       "    <tr style=\"text-align: right;\">\n",
       "      <th></th>\n",
       "      <th>Apartment number</th>\n",
       "      <th>Address</th>\n",
       "      <th>Price</th>\n",
       "      <th>Bedrooms</th>\n",
       "      <th>Area</th>\n",
       "    </tr>\n",
       "  </thead>\n",
       "  <tbody>\n",
       "    <tr>\n",
       "      <th>0</th>\n",
       "      <td>0</td>\n",
       "      <td>宝地东花园</td>\n",
       "      <td>890</td>\n",
       "      <td>2</td>\n",
       "      <td>105.81</td>\n",
       "    </tr>\n",
       "    <tr>\n",
       "      <th>1</th>\n",
       "      <td>1</td>\n",
       "      <td>控江路1455弄</td>\n",
       "      <td>315</td>\n",
       "      <td>2</td>\n",
       "      <td>55.85</td>\n",
       "    </tr>\n",
       "    <tr>\n",
       "      <th>2</th>\n",
       "      <td>2</td>\n",
       "      <td>眉州路515弄</td>\n",
       "      <td>218</td>\n",
       "      <td>1</td>\n",
       "      <td>35.11</td>\n",
       "    </tr>\n",
       "    <tr>\n",
       "      <th>3</th>\n",
       "      <td>3</td>\n",
       "      <td>嘉誉湾</td>\n",
       "      <td>1620</td>\n",
       "      <td>4</td>\n",
       "      <td>195.02</td>\n",
       "    </tr>\n",
       "    <tr>\n",
       "      <th>4</th>\n",
       "      <td>4</td>\n",
       "      <td>广杭苑</td>\n",
       "      <td>645</td>\n",
       "      <td>3</td>\n",
       "      <td>114.22</td>\n",
       "    </tr>\n",
       "  </tbody>\n",
       "</table>\n",
       "</div>"
      ],
      "text/plain": [
       "   Apartment number   Address  Price  Bedrooms    Area\n",
       "0                 0     宝地东花园    890         2  105.81\n",
       "1                 1  控江路1455弄    315         2   55.85\n",
       "2                 2   眉州路515弄    218         1   35.11\n",
       "3                 3       嘉誉湾   1620         4  195.02\n",
       "4                 4       广杭苑    645         3  114.22"
      ]
     },
     "execution_count": 20,
     "metadata": {},
     "output_type": "execute_result"
    }
   ],
   "source": [
    "df_house=pd.read_csv('lianjia.csv')\n",
    "df_house.head()"
   ]
  },
  {
   "cell_type": "code",
   "execution_count": 21,
   "metadata": {
    "ExecuteTime": {
     "end_time": "2020-02-17T15:20:36.073143Z",
     "start_time": "2020-02-17T15:20:36.061818Z"
    }
   },
   "outputs": [
    {
     "data": {
      "text/plain": [
       "600"
      ]
     },
     "execution_count": 21,
     "metadata": {},
     "output_type": "execute_result"
    }
   ],
   "source": [
    "df_house.shape[0]"
   ]
  },
  {
   "cell_type": "code",
   "execution_count": 22,
   "metadata": {
    "ExecuteTime": {
     "end_time": "2020-02-17T15:20:37.316753Z",
     "start_time": "2020-02-17T15:20:37.304673Z"
    }
   },
   "outputs": [
    {
     "data": {
      "text/plain": [
       "Apartment number      int64\n",
       "Address              object\n",
       "Price                 int64\n",
       "Bedrooms              int64\n",
       "Area                float64\n",
       "dtype: object"
      ]
     },
     "execution_count": 22,
     "metadata": {},
     "output_type": "execute_result"
    }
   ],
   "source": [
    "df_house.dtypes"
   ]
  },
  {
   "cell_type": "markdown",
   "metadata": {},
   "source": [
    "##### select appartment satisfying the first condition in section 1.2 "
   ]
  },
  {
   "cell_type": "markdown",
   "metadata": {},
   "source": [
    "100 apartments are selected"
   ]
  },
  {
   "cell_type": "code",
   "execution_count": 23,
   "metadata": {
    "ExecuteTime": {
     "end_time": "2020-02-17T15:20:46.469086Z",
     "start_time": "2020-02-17T15:20:46.454925Z"
    }
   },
   "outputs": [
    {
     "data": {
      "text/plain": [
       "(100, 5)"
      ]
     },
     "execution_count": 23,
     "metadata": {},
     "output_type": "execute_result"
    }
   ],
   "source": [
    "df_selected=df_house[(df_house.Price<=700)&(df_house.Bedrooms>=2)&(df_house.Area>=80)]\n",
    "df_selected.shape "
   ]
  },
  {
   "cell_type": "code",
   "execution_count": 24,
   "metadata": {
    "ExecuteTime": {
     "end_time": "2020-02-17T15:21:28.284166Z",
     "start_time": "2020-02-17T15:21:28.265850Z"
    },
    "scrolled": true
   },
   "outputs": [
    {
     "data": {
      "text/html": [
       "<div>\n",
       "<style scoped>\n",
       "    .dataframe tbody tr th:only-of-type {\n",
       "        vertical-align: middle;\n",
       "    }\n",
       "\n",
       "    .dataframe tbody tr th {\n",
       "        vertical-align: top;\n",
       "    }\n",
       "\n",
       "    .dataframe thead th {\n",
       "        text-align: right;\n",
       "    }\n",
       "</style>\n",
       "<table border=\"1\" class=\"dataframe\">\n",
       "  <thead>\n",
       "    <tr style=\"text-align: right;\">\n",
       "      <th></th>\n",
       "      <th>Apartment number</th>\n",
       "      <th>Address</th>\n",
       "      <th>Price</th>\n",
       "      <th>Bedrooms</th>\n",
       "      <th>Area</th>\n",
       "    </tr>\n",
       "  </thead>\n",
       "  <tbody>\n",
       "    <tr>\n",
       "      <th>4</th>\n",
       "      <td>4</td>\n",
       "      <td>广杭苑</td>\n",
       "      <td>645</td>\n",
       "      <td>3</td>\n",
       "      <td>114.22</td>\n",
       "    </tr>\n",
       "    <tr>\n",
       "      <th>10</th>\n",
       "      <td>10</td>\n",
       "      <td>圣骊河滨苑</td>\n",
       "      <td>698</td>\n",
       "      <td>2</td>\n",
       "      <td>83.31</td>\n",
       "    </tr>\n",
       "    <tr>\n",
       "      <th>23</th>\n",
       "      <td>23</td>\n",
       "      <td>新江湾佳苑</td>\n",
       "      <td>646</td>\n",
       "      <td>2</td>\n",
       "      <td>91.44</td>\n",
       "    </tr>\n",
       "    <tr>\n",
       "      <th>24</th>\n",
       "      <td>24</td>\n",
       "      <td>松花公寓</td>\n",
       "      <td>428</td>\n",
       "      <td>2</td>\n",
       "      <td>83.00</td>\n",
       "    </tr>\n",
       "    <tr>\n",
       "      <th>29</th>\n",
       "      <td>29</td>\n",
       "      <td>锦杨苑</td>\n",
       "      <td>680</td>\n",
       "      <td>2</td>\n",
       "      <td>105.15</td>\n",
       "    </tr>\n",
       "    <tr>\n",
       "      <th>34</th>\n",
       "      <td>34</td>\n",
       "      <td>广杭苑</td>\n",
       "      <td>645</td>\n",
       "      <td>3</td>\n",
       "      <td>114.22</td>\n",
       "    </tr>\n",
       "    <tr>\n",
       "      <th>40</th>\n",
       "      <td>40</td>\n",
       "      <td>圣骊河滨苑</td>\n",
       "      <td>698</td>\n",
       "      <td>2</td>\n",
       "      <td>83.31</td>\n",
       "    </tr>\n",
       "    <tr>\n",
       "      <th>53</th>\n",
       "      <td>53</td>\n",
       "      <td>新江湾佳苑</td>\n",
       "      <td>646</td>\n",
       "      <td>2</td>\n",
       "      <td>91.44</td>\n",
       "    </tr>\n",
       "    <tr>\n",
       "      <th>54</th>\n",
       "      <td>54</td>\n",
       "      <td>松花公寓</td>\n",
       "      <td>428</td>\n",
       "      <td>2</td>\n",
       "      <td>83.00</td>\n",
       "    </tr>\n",
       "    <tr>\n",
       "      <th>59</th>\n",
       "      <td>59</td>\n",
       "      <td>锦杨苑</td>\n",
       "      <td>680</td>\n",
       "      <td>2</td>\n",
       "      <td>105.15</td>\n",
       "    </tr>\n",
       "  </tbody>\n",
       "</table>\n",
       "</div>"
      ],
      "text/plain": [
       "    Apartment number Address  Price  Bedrooms    Area\n",
       "4                  4     广杭苑    645         3  114.22\n",
       "10                10   圣骊河滨苑    698         2   83.31\n",
       "23                23   新江湾佳苑    646         2   91.44\n",
       "24                24    松花公寓    428         2   83.00\n",
       "29                29     锦杨苑    680         2  105.15\n",
       "34                34     广杭苑    645         3  114.22\n",
       "40                40   圣骊河滨苑    698         2   83.31\n",
       "53                53   新江湾佳苑    646         2   91.44\n",
       "54                54    松花公寓    428         2   83.00\n",
       "59                59     锦杨苑    680         2  105.15"
      ]
     },
     "execution_count": 24,
     "metadata": {},
     "output_type": "execute_result"
    }
   ],
   "source": [
    "df_selected.head(10)"
   ]
  },
  {
   "cell_type": "markdown",
   "metadata": {},
   "source": [
    "Extract addresses of these selected appartments"
   ]
  },
  {
   "cell_type": "code",
   "execution_count": 25,
   "metadata": {
    "ExecuteTime": {
     "end_time": "2020-02-17T15:24:36.203215Z",
     "start_time": "2020-02-17T15:24:36.192768Z"
    }
   },
   "outputs": [
    {
     "data": {
      "text/plain": [
       "array(['广杭苑', '圣骊河滨苑', '新江湾佳苑', '松花公寓', '锦杨苑'], dtype=object)"
      ]
     },
     "execution_count": 25,
     "metadata": {},
     "output_type": "execute_result"
    }
   ],
   "source": [
    "df_selected.Address.unique()"
   ]
  },
  {
   "cell_type": "markdown",
   "metadata": {},
   "source": [
    "#### 2. Get geodata of the addresses of selected apartments with Baidu api"
   ]
  },
  {
   "cell_type": "code",
   "execution_count": 26,
   "metadata": {
    "ExecuteTime": {
     "end_time": "2020-02-17T15:33:06.438122Z",
     "start_time": "2020-02-17T15:33:06.419171Z"
    }
   },
   "outputs": [
    {
     "data": {
      "text/html": [
       "<div>\n",
       "<style scoped>\n",
       "    .dataframe tbody tr th:only-of-type {\n",
       "        vertical-align: middle;\n",
       "    }\n",
       "\n",
       "    .dataframe tbody tr th {\n",
       "        vertical-align: top;\n",
       "    }\n",
       "\n",
       "    .dataframe thead th {\n",
       "        text-align: right;\n",
       "    }\n",
       "</style>\n",
       "<table border=\"1\" class=\"dataframe\">\n",
       "  <thead>\n",
       "    <tr style=\"text-align: right;\">\n",
       "      <th></th>\n",
       "      <th>Address</th>\n",
       "      <th>Longitude</th>\n",
       "      <th>Latitude</th>\n",
       "    </tr>\n",
       "  </thead>\n",
       "  <tbody>\n",
       "    <tr>\n",
       "      <th>0</th>\n",
       "      <td>松花公寓</td>\n",
       "      <td>121.545267</td>\n",
       "      <td>31.300812</td>\n",
       "    </tr>\n",
       "    <tr>\n",
       "      <th>1</th>\n",
       "      <td>广杭苑</td>\n",
       "      <td>121.542566</td>\n",
       "      <td>31.263955</td>\n",
       "    </tr>\n",
       "    <tr>\n",
       "      <th>2</th>\n",
       "      <td>圣骊河滨苑</td>\n",
       "      <td>121.538631</td>\n",
       "      <td>31.263405</td>\n",
       "    </tr>\n",
       "    <tr>\n",
       "      <th>3</th>\n",
       "      <td>新江湾佳苑</td>\n",
       "      <td>121.510335</td>\n",
       "      <td>31.315625</td>\n",
       "    </tr>\n",
       "    <tr>\n",
       "      <th>4</th>\n",
       "      <td>锦杨苑</td>\n",
       "      <td>121.535064</td>\n",
       "      <td>31.268477</td>\n",
       "    </tr>\n",
       "  </tbody>\n",
       "</table>\n",
       "</div>"
      ],
      "text/plain": [
       "  Address   Longitude   Latitude\n",
       "0    松花公寓  121.545267  31.300812\n",
       "1     广杭苑  121.542566  31.263955\n",
       "2   圣骊河滨苑  121.538631  31.263405\n",
       "3   新江湾佳苑  121.510335  31.315625\n",
       "4     锦杨苑  121.535064  31.268477"
      ]
     },
     "execution_count": 26,
     "metadata": {},
     "output_type": "execute_result"
    }
   ],
   "source": [
    "df_geo=pd.read_csv('apartment_geocode.csv')\n",
    "df_geo"
   ]
  },
  {
   "cell_type": "markdown",
   "metadata": {},
   "source": [
    "#### 3. Get metro station geodata"
   ]
  },
  {
   "cell_type": "code",
   "execution_count": 27,
   "metadata": {
    "ExecuteTime": {
     "end_time": "2020-02-17T15:35:18.355915Z",
     "start_time": "2020-02-17T15:35:18.335224Z"
    }
   },
   "outputs": [
    {
     "data": {
      "text/html": [
       "<div>\n",
       "<style scoped>\n",
       "    .dataframe tbody tr th:only-of-type {\n",
       "        vertical-align: middle;\n",
       "    }\n",
       "\n",
       "    .dataframe tbody tr th {\n",
       "        vertical-align: top;\n",
       "    }\n",
       "\n",
       "    .dataframe thead th {\n",
       "        text-align: right;\n",
       "    }\n",
       "</style>\n",
       "<table border=\"1\" class=\"dataframe\">\n",
       "  <thead>\n",
       "    <tr style=\"text-align: right;\">\n",
       "      <th></th>\n",
       "      <th>Station</th>\n",
       "      <th>Longitude</th>\n",
       "      <th>Latitude</th>\n",
       "    </tr>\n",
       "  </thead>\n",
       "  <tbody>\n",
       "    <tr>\n",
       "      <th>0</th>\n",
       "      <td>三林东</td>\n",
       "      <td>121.523234</td>\n",
       "      <td>31.146525</td>\n",
       "    </tr>\n",
       "    <tr>\n",
       "      <th>1</th>\n",
       "      <td>三门路</td>\n",
       "      <td>121.507995</td>\n",
       "      <td>31.313091</td>\n",
       "    </tr>\n",
       "    <tr>\n",
       "      <th>2</th>\n",
       "      <td>上南路</td>\n",
       "      <td>121.506413</td>\n",
       "      <td>31.149112</td>\n",
       "    </tr>\n",
       "    <tr>\n",
       "      <th>3</th>\n",
       "      <td>上大路</td>\n",
       "      <td>121.409179</td>\n",
       "      <td>31.313524</td>\n",
       "    </tr>\n",
       "    <tr>\n",
       "      <th>4</th>\n",
       "      <td>上海体育场</td>\n",
       "      <td>121.443713</td>\n",
       "      <td>31.185522</td>\n",
       "    </tr>\n",
       "  </tbody>\n",
       "</table>\n",
       "</div>"
      ],
      "text/plain": [
       "  Station   Longitude   Latitude\n",
       "0     三林东  121.523234  31.146525\n",
       "1     三门路  121.507995  31.313091\n",
       "2     上南路  121.506413  31.149112\n",
       "3     上大路  121.409179  31.313524\n",
       "4   上海体育场  121.443713  31.185522"
      ]
     },
     "execution_count": 27,
     "metadata": {},
     "output_type": "execute_result"
    }
   ],
   "source": [
    "df_station=pd.read_csv('station.csv')\n",
    "df_station.head()"
   ]
  },
  {
   "cell_type": "markdown",
   "metadata": {},
   "source": [
    "#### 4.Foursquare data and geodata to map venues"
   ]
  },
  {
   "cell_type": "markdown",
   "metadata": {},
   "source": [
    "In this part, I will use foursquare api to check venues around the selected apartment to see if it is convenient enough."
   ]
  }
 ],
 "metadata": {
  "kernelspec": {
   "display_name": "Python 3",
   "language": "python",
   "name": "python3"
  },
  "language_info": {
   "codemirror_mode": {
    "name": "ipython",
    "version": 3
   },
   "file_extension": ".py",
   "mimetype": "text/x-python",
   "name": "python",
   "nbconvert_exporter": "python",
   "pygments_lexer": "ipython3",
   "version": "3.7.2"
  }
 },
 "nbformat": 4,
 "nbformat_minor": 2
}
